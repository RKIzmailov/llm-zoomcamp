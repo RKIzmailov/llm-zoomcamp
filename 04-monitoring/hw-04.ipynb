{
 "cells": [
  {
   "cell_type": "code",
   "execution_count": 26,
   "id": "18c8d516-1c62-4133-945e-3513e6937f93",
   "metadata": {},
   "outputs": [],
   "source": [
    "import pandas as pd\n",
    "import numpy as np\n",
    "\n",
    "from tqdm.auto import tqdm\n",
    "from tqdm import tqdm, tqdm_notebook\n",
    "tqdm.pandas()"
   ]
  },
  {
   "cell_type": "code",
   "execution_count": 4,
   "id": "9091dcc2-0e8b-4c13-99c6-890c51911c8c",
   "metadata": {},
   "outputs": [],
   "source": [
    "url = f'https://github.com/DataTalksClub/llm-zoomcamp/blob/main/04-monitoring/data/results-gpt4o-mini.csv?raw=1'\n",
    "df = pd.read_csv(url)"
   ]
  },
  {
   "cell_type": "code",
   "execution_count": 15,
   "id": "d710456a-6eed-4703-b440-b1b08d260533",
   "metadata": {},
   "outputs": [
    {
     "data": {
      "text/html": [
       "<div>\n",
       "<style scoped>\n",
       "    .dataframe tbody tr th:only-of-type {\n",
       "        vertical-align: middle;\n",
       "    }\n",
       "\n",
       "    .dataframe tbody tr th {\n",
       "        vertical-align: top;\n",
       "    }\n",
       "\n",
       "    .dataframe thead th {\n",
       "        text-align: right;\n",
       "    }\n",
       "</style>\n",
       "<table border=\"1\" class=\"dataframe\">\n",
       "  <thead>\n",
       "    <tr style=\"text-align: right;\">\n",
       "      <th></th>\n",
       "      <th>answer_llm</th>\n",
       "      <th>answer_orig</th>\n",
       "      <th>document</th>\n",
       "      <th>question</th>\n",
       "      <th>course</th>\n",
       "    </tr>\n",
       "  </thead>\n",
       "  <tbody>\n",
       "    <tr>\n",
       "      <th>0</th>\n",
       "      <td>You can sign up for the course by visiting the...</td>\n",
       "      <td>Machine Learning Zoomcamp FAQ\\nThe purpose of ...</td>\n",
       "      <td>0227b872</td>\n",
       "      <td>Where can I sign up for the course?</td>\n",
       "      <td>machine-learning-zoomcamp</td>\n",
       "    </tr>\n",
       "    <tr>\n",
       "      <th>1</th>\n",
       "      <td>You can sign up using the link provided in the...</td>\n",
       "      <td>Machine Learning Zoomcamp FAQ\\nThe purpose of ...</td>\n",
       "      <td>0227b872</td>\n",
       "      <td>Can you provide a link to sign up?</td>\n",
       "      <td>machine-learning-zoomcamp</td>\n",
       "    </tr>\n",
       "  </tbody>\n",
       "</table>\n",
       "</div>"
      ],
      "text/plain": [
       "                                          answer_llm  \\\n",
       "0  You can sign up for the course by visiting the...   \n",
       "1  You can sign up using the link provided in the...   \n",
       "\n",
       "                                         answer_orig  document  \\\n",
       "0  Machine Learning Zoomcamp FAQ\\nThe purpose of ...  0227b872   \n",
       "1  Machine Learning Zoomcamp FAQ\\nThe purpose of ...  0227b872   \n",
       "\n",
       "                              question                     course  \n",
       "0  Where can I sign up for the course?  machine-learning-zoomcamp  \n",
       "1   Can you provide a link to sign up?  machine-learning-zoomcamp  "
      ]
     },
     "execution_count": 15,
     "metadata": {},
     "output_type": "execute_result"
    }
   ],
   "source": [
    "df = df.iloc[:300]\n",
    "df.head(2)"
   ]
  },
  {
   "cell_type": "markdown",
   "id": "46be877c-5b63-4d76-bf36-e1b1dbc023d0",
   "metadata": {},
   "source": [
    "## Q1. Getting the embeddings model"
   ]
  },
  {
   "cell_type": "code",
   "execution_count": 9,
   "id": "9682b17c-3c76-446d-8079-c748c33a23ae",
   "metadata": {},
   "outputs": [
    {
     "name": "stderr",
     "output_type": "stream",
     "text": [
      "You try to use a model that was created with version 3.0.0.dev0, however, your version is 2.7.0. This might cause unexpected behavior or errors. In that case, try to update to the latest version.\n",
      "\n",
      "\n",
      "\n"
     ]
    }
   ],
   "source": [
    "from sentence_transformers import SentenceTransformer\n",
    "\n",
    "model_name = 'multi-qa-mpnet-base-dot-v1'\n",
    "embedding_model = SentenceTransformer(model_name)"
   ]
  },
  {
   "cell_type": "code",
   "execution_count": 11,
   "id": "c683b9c7-2488-419c-b8bc-610bef63814f",
   "metadata": {},
   "outputs": [
    {
     "data": {
      "text/plain": [
       "'You can sign up for the course by visiting the course page at [http://mlzoomcamp.com/](http://mlzoomcamp.com/).'"
      ]
     },
     "execution_count": 11,
     "metadata": {},
     "output_type": "execute_result"
    }
   ],
   "source": [
    "answer_llm = df.iloc[0].answer_llm\n",
    "answer_llm"
   ]
  },
  {
   "cell_type": "code",
   "execution_count": 14,
   "id": "611f236c-d1a4-4848-8354-71f9e48a233b",
   "metadata": {},
   "outputs": [
    {
     "data": {
      "text/plain": [
       "-0.42244655"
      ]
     },
     "execution_count": 14,
     "metadata": {},
     "output_type": "execute_result"
    }
   ],
   "source": [
    "embedding_model.encode(answer_llm)[0]"
   ]
  },
  {
   "cell_type": "markdown",
   "id": "ffa22f0b-723d-4a68-8445-fa68524c2e58",
   "metadata": {},
   "source": [
    "The first value of the resulting vector = -0.42"
   ]
  },
  {
   "cell_type": "markdown",
   "id": "a8170700-68f4-4e57-b3c8-0de6efd2b90f",
   "metadata": {},
   "source": [
    "## Q2. Computing the dot product"
   ]
  },
  {
   "cell_type": "code",
   "execution_count": 18,
   "id": "bac173c1-8e31-429f-bbf2-736cfe7a123f",
   "metadata": {},
   "outputs": [
    {
     "data": {
      "text/plain": [
       "17.515987"
      ]
     },
     "execution_count": 18,
     "metadata": {},
     "output_type": "execute_result"
    }
   ],
   "source": [
    "answer_llm = df.iloc[0].answer_llm\n",
    "answer_orig = df.iloc[0].answer_orig\n",
    "embedding_model.encode(answer_llm).dot(embedding_model.encode(answer_orig))"
   ]
  },
  {
   "cell_type": "code",
   "execution_count": 20,
   "id": "99f4fc2d-f472-4bdf-bd64-5d2a76fd6ea1",
   "metadata": {},
   "outputs": [
    {
     "data": {
      "text/plain": [
       "count    300.000000\n",
       "mean      27.495996\n",
       "std        6.384742\n",
       "min        4.547923\n",
       "25%       24.307844\n",
       "50%       28.336870\n",
       "75%       31.674309\n",
       "max       39.476013\n",
       "Name: evaluations, dtype: float64"
      ]
     },
     "execution_count": 20,
     "metadata": {},
     "output_type": "execute_result"
    }
   ],
   "source": [
    "df['evaluations'] = df.progress_apply(lambda row: embedding_model.encode(row.answer_llm).dot(embedding_model.encode(row.answer_orig)), axis = 1)\n",
    "df['evaluations'].describe()"
   ]
  },
  {
   "cell_type": "markdown",
   "id": "1503f7fd-46dc-4ffd-bea9-c6e9e20e01ce",
   "metadata": {},
   "source": [
    "The 75% percentile of the score = 31.67"
   ]
  },
  {
   "cell_type": "markdown",
   "id": "af101cd5-1dc5-47b2-8e96-5136f9369b18",
   "metadata": {},
   "source": [
    "## Q3. Computing the cosine"
   ]
  },
  {
   "cell_type": "code",
   "execution_count": 27,
   "id": "26b52043-dc1f-44e2-b7fb-7dcfcea510a2",
   "metadata": {},
   "outputs": [
    {
     "name": "stderr",
     "output_type": "stream",
     "text": [
      "100%|██████████████████████████████████████████████████████████████████████████████████████████████████████████████████| 300/300 [01:20<00:00,  3.71it/s]\n"
     ]
    },
    {
     "data": {
      "text/plain": [
       "count    300.000000\n",
       "mean       0.728393\n",
       "std        0.157755\n",
       "min        0.125357\n",
       "25%        0.651273\n",
       "50%        0.763761\n",
       "75%        0.836235\n",
       "max        0.958796\n",
       "Name: evaluations_norm, dtype: float64"
      ]
     },
     "execution_count": 27,
     "metadata": {},
     "output_type": "execute_result"
    }
   ],
   "source": [
    "def norma(v):\n",
    "    v=np.array(v)\n",
    "    norm = np.sqrt((v * v).sum())\n",
    "    v_norm = v / norm\n",
    "    return v_norm\n",
    "\n",
    "df['evaluations_norm'] = df.progress_apply(lambda row: norma(embedding_model.encode(row.answer_llm)).dot(norma(embedding_model.encode(row.answer_orig))), axis = 1)\n",
    "df['evaluations_norm'].describe()"
   ]
  },
  {
   "cell_type": "markdown",
   "id": "ff02fe8c-e4fa-45ce-b21a-8328a18cbdeb",
   "metadata": {},
   "source": [
    "The 75% cosine in the scores = 0.83"
   ]
  },
  {
   "cell_type": "markdown",
   "id": "52b6d61a-bd3e-43e6-97c0-204d8d14268b",
   "metadata": {},
   "source": [
    "## Q4. Rouge"
   ]
  },
  {
   "cell_type": "code",
   "execution_count": 28,
   "id": "5abcd8e9-a308-4630-aa42-bc2e3e10efdb",
   "metadata": {},
   "outputs": [
    {
     "name": "stderr",
     "output_type": "stream",
     "text": [
      "huggingface/tokenizers: The current process just got forked, after parallelism has already been used. Disabling parallelism to avoid deadlocks...\n",
      "To disable this warning, you can either:\n",
      "\t- Avoid using `tokenizers` before the fork if possible\n",
      "\t- Explicitly set the environment variable TOKENIZERS_PARALLELISM=(true | false)\n"
     ]
    },
    {
     "name": "stdout",
     "output_type": "stream",
     "text": [
      "Collecting rouge\n",
      "  Downloading rouge-1.0.1-py3-none-any.whl.metadata (4.1 kB)\n",
      "Requirement already satisfied: six in /home/codespace/.local/lib/python3.10/site-packages (from rouge) (1.16.0)\n",
      "Downloading rouge-1.0.1-py3-none-any.whl (13 kB)\n",
      "Installing collected packages: rouge\n",
      "Successfully installed rouge-1.0.1\n"
     ]
    }
   ],
   "source": [
    "!pip install rouge"
   ]
  },
  {
   "cell_type": "code",
   "execution_count": 30,
   "id": "f0993167-916e-4ce6-8e3e-1642c9a35313",
   "metadata": {},
   "outputs": [
    {
     "name": "stderr",
     "output_type": "stream",
     "text": [
      "100%|█████████████████████████████████████████████████████████████████████████████████████████████████████████████████| 300/300 [00:00<00:00, 355.14it/s]\n"
     ]
    }
   ],
   "source": [
    "from rouge import Rouge\n",
    "rouge_scorer = Rouge()\n",
    "\n",
    "df['rouge_scores'] = df.progress_apply(lambda row: rouge_scorer.get_scores(row['answer_llm'], row['answer_orig'])[0], axis=1)"
   ]
  },
  {
   "cell_type": "code",
   "execution_count": 34,
   "id": "38061939-4d1b-4335-8156-383fc66a6e95",
   "metadata": {},
   "outputs": [
    {
     "data": {
      "text/plain": [
       "{'rouge-1': {'r': 0.45454545454545453,\n",
       "  'p': 0.45454545454545453,\n",
       "  'f': 0.45454544954545456},\n",
       " 'rouge-2': {'r': 0.21621621621621623,\n",
       "  'p': 0.21621621621621623,\n",
       "  'f': 0.21621621121621637},\n",
       " 'rouge-l': {'r': 0.3939393939393939,\n",
       "  'p': 0.3939393939393939,\n",
       "  'f': 0.393939388939394}}"
      ]
     },
     "execution_count": 34,
     "metadata": {},
     "output_type": "execute_result"
    }
   ],
   "source": [
    "df[df.document == '5170565b'].rouge_scores[10]"
   ]
  },
  {
   "cell_type": "markdown",
   "id": "a5bd353b-e861-4bd9-8fe5-348fca031609",
   "metadata": {},
   "source": [
    "The F score for rouge-1 = 0.45"
   ]
  },
  {
   "cell_type": "markdown",
   "id": "553b82cf-06f6-45d7-aa2c-8e4d3e9d6f16",
   "metadata": {},
   "source": [
    "## Q5. Average rouge score"
   ]
  },
  {
   "cell_type": "code",
   "execution_count": 42,
   "id": "e7fdfda3-ba22-449e-81ae-47aa12d748b2",
   "metadata": {},
   "outputs": [
    {
     "data": {
      "text/plain": [
       "0.35490034990035496"
      ]
     },
     "execution_count": 42,
     "metadata": {},
     "output_type": "execute_result"
    }
   ],
   "source": [
    "res = df[df.document == '5170565b'].rouge_scores[10]\n",
    "average = (res['rouge-1']['f'] + res['rouge-2']['f'] + res['rouge-l']['f']) / 3\n",
    "average"
   ]
  },
  {
   "cell_type": "markdown",
   "id": "4d26b2b9-7d50-4b0c-835c-66e31ce0e35d",
   "metadata": {},
   "source": [
    "The average between rouge-1, rouge-2 and rouge-l for the same record from Q4 = 0.35"
   ]
  },
  {
   "cell_type": "markdown",
   "id": "e2b431fa-6524-4886-aa25-194bee985dd9",
   "metadata": {},
   "source": [
    "## Q6. Average rouge score for all the data points"
   ]
  },
  {
   "cell_type": "code",
   "execution_count": 44,
   "id": "d851e641-819f-4443-9de0-e2e4ad956e58",
   "metadata": {},
   "outputs": [],
   "source": [
    "df['rouge_1'] = df['rouge_scores'].apply(lambda scores: scores['rouge-1']['f'])\n",
    "df['rouge_2'] = df['rouge_scores'].apply(lambda scores: scores['rouge-2']['f'])\n",
    "df['rouge_l'] = df['rouge_scores'].apply(lambda scores:  scores['rouge-l']['f'])\n",
    "df['rouge_avg'] = (df.rouge_1 + df.rouge_2 + df.rouge_l) / 3"
   ]
  },
  {
   "cell_type": "code",
   "execution_count": 45,
   "id": "9f5aca4e-d730-4051-a113-7ecba5bb4a23",
   "metadata": {},
   "outputs": [
    {
     "data": {
      "text/plain": [
       "count    300.000000\n",
       "mean       0.206965\n",
       "std        0.153550\n",
       "min        0.000000\n",
       "25%        0.097809\n",
       "50%        0.178671\n",
       "75%        0.286181\n",
       "max        0.739130\n",
       "Name: rouge_2, dtype: float64"
      ]
     },
     "execution_count": 45,
     "metadata": {},
     "output_type": "execute_result"
    }
   ],
   "source": [
    "df.rouge_2.describe()"
   ]
  },
  {
   "cell_type": "markdown",
   "id": "d830c6a7-b8d4-4749-8218-a7e38ca8c483",
   "metadata": {},
   "source": [
    "The agerage rouge_2 across all the records = 0.20"
   ]
  }
 ],
 "metadata": {
  "kernelspec": {
   "display_name": "Python 3 (ipykernel)",
   "language": "python",
   "name": "python3"
  },
  "language_info": {
   "codemirror_mode": {
    "name": "ipython",
    "version": 3
   },
   "file_extension": ".py",
   "mimetype": "text/x-python",
   "name": "python",
   "nbconvert_exporter": "python",
   "pygments_lexer": "ipython3",
   "version": "3.10.13"
  }
 },
 "nbformat": 4,
 "nbformat_minor": 5
}
